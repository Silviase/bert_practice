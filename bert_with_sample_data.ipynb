{
 "cells": [
  {
   "cell_type": "markdown",
   "metadata": {},
   "source": [
    "# BERTで回帰してみよう"
   ]
  },
  {
   "cell_type": "markdown",
   "metadata": {},
   "source": [
    "## BertForSequenceClassification is どんなの"
   ]
  },
  {
   "cell_type": "markdown",
   "metadata": {},
   "source": [
    "## documentを眺める\n",
    "\n",
    "[BertForSequenceClassification](https://huggingface.co/transformers/model_doc/bert.html#bertforsequenceclassification)を眺めると，以下のように書いてある.\n",
    "\n",
    "```\n",
    "Bert Model transformer with a sequence classification/regression head on top (a linear layer on top of the pooled output) e.g. for GLUE tasks.\n",
    "This model inherits from PreTrainedModel. Check the superclass documentation for the generic methods the library implements for all its model (such as downloading or saving, resizing the input embeddings, pruning heads etc.)\n",
    "This model is also a PyTorch torch.nn.Module subclass. Use it as a regular PyTorch Module and refer to the PyTorch documentation for all matter related to general usage and behavior.\n",
    "\n",
    "訳：\n",
    "分類/回帰層(出力層の頂点に1層の線形層がある)がてっぺんに乗ったBERT-Transformerモデルです．\n",
    "PretrainedModelを継承しているので，ドキュメントはそこを参照しましょう．\n",
    "Pytorchのnn.Moduleのサブクラスでもあるので，このドキュメントを利用してもよいでしょう．\n",
    "```\n",
    "\n",
    "なのでこれを使ってみればよさそうだという結論に至る．"
   ]
  },
  {
   "cell_type": "markdown",
   "metadata": {},
   "source": [
    "## BertConfig is 何\n",
    "\n",
    "Bertモデルを作るときの設定だけどデフォルトでやるなら設定する必要がなさそう\n",
    "```\n",
    "vocab_size\n",
    "hidden_size\n",
    "num_hidden_layers\n",
    "num_attention_heads\n",
    "intermediate_size\n",
    "hidden_act\n",
    "hidden_dropout_prob\n",
    "attention_probs_dropout_prob\n",
    "max_position_embeddings\n",
    "type_vocab_size\n",
    "initializer_range\n",
    "layer_norm_eps\n",
    "gradient_checkpointing\n",
    "position_embedding_type\n",
    "use_cache\n",
    "```"
   ]
  },
  {
   "cell_type": "markdown",
   "metadata": {},
   "source": [
    "## サンプルを走らせる"
   ]
  },
  {
   "cell_type": "code",
   "execution_count": 23,
   "metadata": {},
   "outputs": [],
   "source": [
    "from transformers import BertTokenizer, BertForSequenceClassification,BertConfig, PretrainedConfig\n",
    "import torch\n",
    "\n",
    "tokenizer = BertTokenizer.from_pretrained('bert-base-uncased')\n",
    "config = BertConfig.from_pretrained('bert-base-uncased',problem_type=\"regression\")"
   ]
  },
  {
   "cell_type": "code",
   "execution_count": 33,
   "metadata": {},
   "outputs": [
    {
     "name": "stderr",
     "output_type": "stream",
     "text": [
      "Some weights of the model checkpoint at bert-base-uncased were not used when initializing BertForSequenceClassification: ['cls.predictions.transform.LayerNorm.weight', 'cls.predictions.transform.dense.bias', 'cls.predictions.bias', 'cls.seq_relationship.bias', 'cls.seq_relationship.weight', 'cls.predictions.transform.LayerNorm.bias', 'cls.predictions.transform.dense.weight', 'cls.predictions.decoder.weight']\n",
      "- This IS expected if you are initializing BertForSequenceClassification from the checkpoint of a model trained on another task or with another architecture (e.g. initializing a BertForSequenceClassification model from a BertForPreTraining model).\n",
      "- This IS NOT expected if you are initializing BertForSequenceClassification from the checkpoint of a model that you expect to be exactly identical (initializing a BertForSequenceClassification model from a BertForSequenceClassification model).\n",
      "Some weights of BertForSequenceClassification were not initialized from the model checkpoint at bert-base-uncased and are newly initialized: ['classifier.bias', 'classifier.weight']\n",
      "You should probably TRAIN this model on a down-stream task to be able to use it for predictions and inference.\n"
     ]
    }
   ],
   "source": [
    "model = BertForSequenceClassification.from_pretrained('bert-base-uncased', problem_type=\"regression\")\n",
    "inputs = tokenizer(\"Hello, my dog is cute\", return_tensors=\"pt\")\n",
    "labels = torch.tensor([1]).unsqueeze(0)  # Batch size 1\n",
    "outputs = model(**inputs, labels=labels)\n",
    "loss = outputs.loss\n",
    "logits = outputs.logits"
   ]
  },
  {
   "cell_type": "code",
   "execution_count": 37,
   "metadata": {},
   "outputs": [
    {
     "data": {
      "text/plain": [
       "(SequenceClassifierOutput(loss=tensor(0.5012, grad_fn=<MseLossBackward>), logits=tensor([[0.2533, 0.3331]], grad_fn=<AddmmBackward>), hidden_states=None, attentions=None),\n",
       " tensor(0.5012, grad_fn=<MseLossBackward>),\n",
       " tensor([[0.2533, 0.3331]], grad_fn=<AddmmBackward>))"
      ]
     },
     "execution_count": 37,
     "metadata": {},
     "output_type": "execute_result"
    }
   ],
   "source": [
    "outputs, loss, logits"
   ]
  },
  {
   "cell_type": "markdown",
   "metadata": {},
   "source": [
    "これでoutputsが回帰になることがわかった，じゃあConfigとかは(まだ)要らないのか\n",
    "あとはラベルとセットのデータを用意すればいい"
   ]
  },
  {
   "cell_type": "code",
   "execution_count": 38,
   "metadata": {},
   "outputs": [
    {
     "data": {
      "text/plain": [
       "{'input_ids': tensor([[  101,  7592,  1010,  2026,  3899,  2003, 10140,   102]]), 'token_type_ids': tensor([[0, 0, 0, 0, 0, 0, 0, 0]]), 'attention_mask': tensor([[1, 1, 1, 1, 1, 1, 1, 1]])}"
      ]
     },
     "execution_count": 38,
     "metadata": {},
     "output_type": "execute_result"
    }
   ],
   "source": [
    "inputs"
   ]
  },
  {
   "cell_type": "markdown",
   "metadata": {},
   "source": [
    "## 一旦普通の回帰データでやってみるぞい"
   ]
  },
  {
   "cell_type": "code",
   "execution_count": null,
   "metadata": {},
   "outputs": [],
   "source": []
  },
  {
   "cell_type": "markdown",
   "metadata": {},
   "source": [
    "## m2→parallel\n",
    "\n",
    "https://github.com/kanekomasahiro/bert-gec/blob/master/scripts/convert_m2_to_parallel.py を眺めるとよさそう,データの形をいい感じにしたい（どんなデータの型にすればいいんだろうか？）"
   ]
  },
  {
   "cell_type": "code",
   "execution_count": null,
   "metadata": {},
   "outputs": [],
   "source": []
  }
 ],
 "metadata": {
  "kernelspec": {
   "display_name": "Python 3 (ipykernel)",
   "language": "python",
   "name": "python3"
  },
  "language_info": {
   "codemirror_mode": {
    "name": "ipython",
    "version": 3
   },
   "file_extension": ".py",
   "mimetype": "text/x-python",
   "name": "python",
   "nbconvert_exporter": "python",
   "pygments_lexer": "ipython3",
   "version": "3.7.4"
  }
 },
 "nbformat": 4,
 "nbformat_minor": 5
}
